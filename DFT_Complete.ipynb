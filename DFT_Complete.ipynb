{
 "cells": [
  {
   "cell_type": "markdown",
   "id": "3dac42ca",
   "metadata": {},
   "source": [
    "\n",
    "# تبدیل فوریه گسسته (DFT) - پیاده‌سازی کامل\n",
    "\n",
    "## مقدمه\n",
    "در فصل‌های 2 و 3، نمایش توالی‌ها و سیستم‌های LTI را با استفاده از تبدیل فوریه زمان گسسته (DTFT) و تبدیل Z بررسی کردیم.\n",
    "برای توالی‌های با طول محدود، یک نمایش جایگزین در حوزه‌ی زمان گسسته، به نام **تبدیل فوریه گسسته (DFT)** وجود دارد.\n",
    "DFT یک توالی است که به عنوان نمونه‌هایی از تبدیل فوریه زمان گسسته‌ی سیگنال در نقاط فرکانسی مشخص تعریف می‌شود.\n",
    "علاوه بر اهمیت نظری، DFT در پردازش سیگنال دیجیتال نقش کلیدی دارد، زیرا الگوریتم‌های محاسباتی سریع مانند **FFT** برای محاسبه‌ی آن وجود دارند.\n"
   ]
  },
  {
   "cell_type": "markdown",
   "id": "71967d31",
   "metadata": {},
   "source": [
    "\n",
    "## سری فوریه گسسته (DFS)\n",
    "یک توالی پریودیک \\( x̃[n] \\) با دوره \\( N \\) را در نظر بگیرید که می‌توان آن را با یک سری فوریه‌ی گسسته به شکل زیر نمایش داد:\n",
    "\n",
    "$$ x̃[n] = \\frac{1}{N} \\sum_{k=0}^{N-1} X̃[k] e^{j (2\\pi/N)kn} $$\n",
    "\n",
    "که در آن \\( X̃[k] \\) ضرایب سری فوریه‌ی گسسته هستند و از رابطه‌ی زیر محاسبه می‌شوند:\n",
    "\n",
    "$$ X̃[k] = \\sum_{n=0}^{N-1} x̃[n] e^{-j (2\\pi/N)kn} $$\n",
    "\n",
    "تعداد ضرایب موردنیاز برای نمایش یک توالی پریودیک با دوره‌ی \\( N \\)، برابر با \\( N \\) عدد است.\n"
   ]
  },
  {
   "cell_type": "code",
   "execution_count": null,
   "id": "74694645",
   "metadata": {},
   "outputs": [],
   "source": [
    "\n",
    "import numpy as np\n",
    "import matplotlib.pyplot as plt\n",
    "\n",
    "def DFT(x):\n",
    "    \"\"\"محاسبه‌ی تبدیل فوریه گسسته (DFT)\"\"\"\n",
    "    N = len(x)\n",
    "    X = np.zeros(N, dtype=complex)\n",
    "    for k in range(N):\n",
    "        for n in range(N):\n",
    "            X[k] += x[n] * np.exp(-2j * np.pi * k * n / N)\n",
    "    return X\n",
    "\n",
    "# مثال: محاسبه‌ی DFT برای یک توالی نمونه\n",
    "x = [1, 2, 3, 4, 5, 6, 7, 8]\n",
    "X = DFT(x)\n",
    "\n",
    "# نمایش طیف دامنه و فاز\n",
    "fig, axs = plt.subplots(2, 1, figsize=(8, 6))\n",
    "axs[0].stem(np.abs(X), use_line_collection=True)\n",
    "axs[0].set_title(\"Magnitude Spectrum\")\n",
    "axs[0].set_xlabel(\"Frequency Index\")\n",
    "axs[0].set_ylabel(\"Magnitude\")\n",
    "\n",
    "axs[1].stem(np.angle(X), use_line_collection=True)\n",
    "axs[1].set_title(\"Phase Spectrum\")\n",
    "axs[1].set_xlabel(\"Frequency Index\")\n",
    "axs[1].set_ylabel(\"Phase (radians)\")\n",
    "\n",
    "plt.tight_layout()\n",
    "plt.show()\n"
   ]
  },
  {
   "cell_type": "markdown",
   "id": "f426bed5",
   "metadata": {},
   "source": [
    "\n",
    "## کانولوشن پریودیک (Circular Convolution)\n",
    "اگر دو توالی پریودیک \\( x̃_1[n] \\) و \\( x̃_2[n] \\) داشته باشیم، حاصل ضرب تبدیل فوریه‌ی گسسته‌ی آن‌ها برابر است با:\n",
    "\n",
    "$$ X̃_3[k] = X̃_1[k] X̃_2[k] $$\n",
    "\n",
    "که در حوزه‌ی زمان، معادل **کانولوشن پریودیک** است:\n",
    "\n",
    "$$ x̃_3[n] = \\sum_{m=0}^{N-1} x̃_1[m] x̃_2[n - m] $$\n"
   ]
  },
  {
   "cell_type": "code",
   "execution_count": null,
   "id": "44f082ab",
   "metadata": {},
   "outputs": [],
   "source": [
    "\n",
    "def circular_convolution(x, h):\n",
    "    \"\"\"محاسبه‌ی کانولوشن پریودیک بین دو سیگنال\"\"\"\n",
    "    N = max(len(x), len(h))\n",
    "    x = np.pad(x, (0, N - len(x)))\n",
    "    h = np.pad(h, (0, N - len(h)))\n",
    "    X = DFT(x)\n",
    "    H = DFT(h)\n",
    "    Y = X * H\n",
    "    y = np.fft.ifft(Y)\n",
    "    return np.real(y)\n",
    "\n",
    "# مثال: محاسبه‌ی کانولوشن پریودیک\n",
    "x = [1, 2, 3, 4]\n",
    "h = [0, 1, 0.5, 0.25]\n",
    "y = circular_convolution(x, h)\n",
    "\n",
    "plt.figure(figsize=(6, 4))\n",
    "plt.stem(y, use_line_collection=True)\n",
    "plt.title(\"Circular Convolution Output\")\n",
    "plt.xlabel(\"Index\")\n",
    "plt.ylabel(\"Amplitude\")\n",
    "plt.show()\n"
   ]
  }
 ],
 "metadata": {
  "kernelspec": {
   "display_name": "Python [conda env:base] *",
   "language": "python",
   "name": "conda-base-py"
  },
  "language_info": {
   "codemirror_mode": {
    "name": "ipython",
    "version": 3
   },
   "file_extension": ".py",
   "mimetype": "text/x-python",
   "name": "python",
   "nbconvert_exporter": "python",
   "pygments_lexer": "ipython3",
   "version": "3.12.7"
  }
 },
 "nbformat": 4,
 "nbformat_minor": 5
}
